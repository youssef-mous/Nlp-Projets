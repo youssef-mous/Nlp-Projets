{
 "cells": [
  {
   "cell_type": "markdown",
   "id": "c08e6b03-57f6-4a47-9f0c-a5b13439bf67",
   "metadata": {},
   "source": [
    "# Import spacy library and Tf-Idfvectorizor"
   ]
  },
  {
   "cell_type": "code",
   "execution_count": 2,
   "id": "375585f0-656b-4cd8-b682-723fe9a20651",
   "metadata": {},
   "outputs": [],
   "source": [
    "import spacy\n",
    "from sklearn.feature_extraction.text import TfidfVectorizer\n",
    "\n",
    "# Load spaCy model\n",
    "nlp = spacy.load(\"fr_core_news_sm\")\n"
   ]
  },
  {
   "cell_type": "markdown",
   "id": "5fafc44a-ee89-4662-8214-3453a51f99ba",
   "metadata": {},
   "source": [
    "# Preprocessing operations "
   ]
  },
  {
   "cell_type": "code",
   "execution_count": 3,
   "id": "80081db7-a908-4548-aefd-0b8231b9b4ed",
   "metadata": {},
   "outputs": [],
   "source": [
    "def preprocess_text(text):\n",
    "    # Tokenize and preprocess the text using spaCy\n",
    "    doc = nlp(text)\n",
    "    return \" \".join([token.lemma_ for token in doc if not token.is_stop])"
   ]
  },
  {
   "cell_type": "markdown",
   "id": "6c9c0279-7afd-4a14-b68d-66e6b5cfb865",
   "metadata": {},
   "source": [
    "# algorithme of the summarize \n"
   ]
  },
  {
   "cell_type": "code",
   "execution_count": 4,
   "id": "8f5fa4b4-7225-4deb-bf0c-af6ce0ea814f",
   "metadata": {},
   "outputs": [],
   "source": [
    "\n",
    "def extractive_summarization(text, ratio=0.3):\n",
    "    # Preprocess the text\n",
    "    preprocessed_text = preprocess_text(text)\n",
    "\n",
    "    # Use TF-IDF for feature extraction\n",
    "    vectorizer = TfidfVectorizer()\n",
    "    X = vectorizer.fit_transform([preprocessed_text])\n",
    "\n",
    "    # Get feature names and scores\n",
    "    feature_names = vectorizer.get_feature_names_out()\n",
    "    tfidf_scores = X[0].toarray()[0]\n",
    "\n",
    "    # Sort feature names based on scores\n",
    "    sorted_indices = tfidf_scores.argsort()[::-1]\n",
    "\n",
    "    # Calculate the number of sentences based on the specified ratio\n",
    "    num_sentences = int(len(sorted_indices) * ratio)\n",
    "\n",
    "    # Get top sentences\n",
    "    top_sentence_indices = sorted_indices[:num_sentences]\n",
    "    top_sentences = [sent.text for i, sent in enumerate(nlp(text).sents) if i in top_sentence_indices]\n",
    "\n",
    "    return \" \".join(top_sentences)\n"
   ]
  },
  {
   "cell_type": "markdown",
   "id": "3f6fd75c-0ab5-4e32-a4ea-717da5bd2959",
   "metadata": {},
   "source": [
    "# USE case example"
   ]
  },
  {
   "cell_type": "code",
   "execution_count": 6,
   "id": "d894fd5e-17bc-42eb-800d-be3560fbe1f1",
   "metadata": {
    "scrolled": true
   },
   "outputs": [
    {
     "name": "stdout",
     "output_type": "stream",
     "text": [
      "Original Text:\n",
      " \n",
      "Dans l'immensité de l'ère numérique, où l'information circule sans relâche, l'intersection entre la technologie et l'expérience humaine occupe le devant de la scène. Des royaumes animés des médias sociaux, où les liens prospèrent dans le paysage virtuel, aux algorithmes complexes qui alimentent l'intelligence artificielle, la révolution numérique remodèle le tissu de la société.\n",
      "\n",
      "Dans le domaine de la santé, les technologies innovantes ouvrent la voie à la médecine personnalisée et aux percées dans le traitement. Les avancées génétiques promettent de percer les secrets de notre ADN, offrant des perspectives sans précédent sur la prévention des maladies et les thérapies ciblées. Pendant ce temps, la télémédecine comble les distances, offrant des solutions de santé accessibles aux coins reculés du globe.\n",
      "\n",
      "Le paysage environnemental subit des transformations guidées par une prise de conscience croissante du changement climatique. Les pratiques durables, les sources d'énergie renouvelables et les innovations écologiques émergent comme des phares d'espoir. Les efforts de conservation, alimentés par l'urgence de préserver la biodiversité, rassemblent des communautés du monde entier pour protéger les espèces en voie de disparition et les écosystèmes fragiles.\n",
      "\n",
      "Dans le monde de l'éducation en constante évolution, les plateformes numériques révolutionnent l'expérience d'apprentissage. Les cours en ligne, les salles de classe virtuelles et les technologies interactives démocratisent le savoir, transcendant les frontières géographiques. La quête du savoir devient un voyage dynamique et accessible pour les apprenants de tous âges, favorisant une communauté intellectuelle mondiale.\n",
      "\n",
      "Alors que la toile culturelle tisse des récits de diversité, d'inclusivité et de justice sociale, les mouvements pour l'égalité prennent de l'ampleur. Les défenseurs du changement utilisent le pouvoir du récit, de l'art et des plateformes numériques pour amplifier les voix et défier les injustices systémiques. La quête d'un monde plus équitable résonne au-delà des frontières, favorisant le dialogue et la compréhension.\n",
      "\n",
      "Dans la danse cosmique de l'exploration, les agences spatiales repoussent les limites de l'accomplissement humain. Les missions sur Mars, les explorations lunaires et la quête de vie extraterrestre captivent l'imagination collective. Les avancées en technologie spatiale promettent un avenir où les voyages interplanétaires deviennent une réalité, ouvrant de nouveaux horizons pour l'humanité.\n",
      "\n",
      "Au milieu de ces récits, l'esprit humain persévère, résilient et adaptable. La convergence de la technologie, de la science et des aspirations sociétales façonne un avenir où les possibilités sont aussi infinies que le cosmos. Dans cette toile complexe du progrès, l'humanité navigue dans les territoires inexplorés de l'ère numérique, animée par la curiosité, la compassion et le désir collectif de forger un avenir meilleur.\n",
      "\n",
      "Summary:\n",
      " \n",
      " Dans l'immensité de l'ère numérique, où l'information circule sans relâche, l'intersection entre la technologie et l'expérience humaine occupe le devant de la scène. Des royaumes animés des médias sociaux, où les liens prospèrent dans le paysage virtuel, aux algorithmes complexes qui alimentent l'intelligence artificielle, la révolution numérique remodèle le tissu de la société.\n",
      "\n",
      "Dans le domaine de la santé, les technologies innovantes ouvrent la voie à la médecine personnalisée et aux percées dans le traitement. Les avancées génétiques promettent de percer les secrets de notre ADN, offrant des perspectives sans précédent sur la prévention des maladies et les thérapies ciblées. Pendant ce temps, la télémédecine comble les distances, offrant des solutions de santé accessibles aux coins reculés du globe.\n",
      "\n",
      " Le paysage environnemental subit des transformations guidées par une prise de conscience croissante du changement climatique. Les pratiques durables, les sources d'énergie renouvelables et les innovations écologiques émergent comme des phares d'espoir. Les efforts de conservation, alimentés par l'urgence de préserver la biodiversité, rassemblent des communautés du monde entier pour protéger les espèces en voie de disparition et les écosystèmes fragiles.\n",
      "\n",
      "Dans le monde de l'éducation en constante évolution, les plateformes numériques révolutionnent l'expérience d'apprentissage. Les cours en ligne, les salles de classe virtuelles et les technologies interactives démocratisent le savoir, transcendant les frontières géographiques. La quête du savoir devient un voyage dynamique et accessible pour les apprenants de tous âges, favorisant une communauté intellectuelle mondiale.\n",
      "\n",
      "Alors que la toile culturelle tisse des récits de diversité, d'inclusivité et de justice sociale, les mouvements pour l'égalité prennent de l'ampleur. Les défenseurs du changement utilisent le pouvoir du récit, de l'art et des plateformes numériques pour amplifier les voix et défier les injustices systémiques. La quête d'un monde plus équitable résonne au-delà des frontières, favorisant le dialogue et la compréhension.\n",
      "\n",
      "Dans la danse cosmique de l'exploration, les agences spatiales repoussent les limites de l'accomplissement humain. Les missions sur Mars, les explorations lunaires et la quête de vie extraterrestre captivent l'imagination collective. Les avancées en technologie spatiale promettent un avenir où les voyages interplanétaires deviennent une réalité, ouvrant de nouveaux horizons pour l'humanité.\n",
      "\n",
      " Au milieu de ces récits, l'esprit humain persévère, résilient et adaptable. La convergence de la technologie, de la science et des aspirations sociétales façonne un avenir où les possibilités sont aussi infinies que le cosmos. Dans cette toile complexe du progrès, l'humanité navigue dans les territoires inexplorés de l'ère numérique, animée par la curiosité, la compassion et le désir collectif de forger un avenir meilleur .\n"
     ]
    }
   ],
   "source": [
    "# Example usage\n",
    "input_text =  \"\"\"\n",
    "Dans l'immensité de l'ère numérique, où l'information circule sans relâche, l'intersection entre la technologie et l'expérience humaine occupe le devant de la scène. Des royaumes animés des médias sociaux, où les liens prospèrent dans le paysage virtuel, aux algorithmes complexes qui alimentent l'intelligence artificielle, la révolution numérique remodèle le tissu de la société.\n",
    "\n",
    "Dans le domaine de la santé, les technologies innovantes ouvrent la voie à la médecine personnalisée et aux percées dans le traitement. Les avancées génétiques promettent de percer les secrets de notre ADN, offrant des perspectives sans précédent sur la prévention des maladies et les thérapies ciblées. Pendant ce temps, la télémédecine comble les distances, offrant des solutions de santé accessibles aux coins reculés du globe.\n",
    "\n",
    "Le paysage environnemental subit des transformations guidées par une prise de conscience croissante du changement climatique. Les pratiques durables, les sources d'énergie renouvelables et les innovations écologiques émergent comme des phares d'espoir. Les efforts de conservation, alimentés par l'urgence de préserver la biodiversité, rassemblent des communautés du monde entier pour protéger les espèces en voie de disparition et les écosystèmes fragiles.\n",
    "\n",
    "Dans le monde de l'éducation en constante évolution, les plateformes numériques révolutionnent l'expérience d'apprentissage. Les cours en ligne, les salles de classe virtuelles et les technologies interactives démocratisent le savoir, transcendant les frontières géographiques. La quête du savoir devient un voyage dynamique et accessible pour les apprenants de tous âges, favorisant une communauté intellectuelle mondiale.\n",
    "\n",
    "Alors que la toile culturelle tisse des récits de diversité, d'inclusivité et de justice sociale, les mouvements pour l'égalité prennent de l'ampleur. Les défenseurs du changement utilisent le pouvoir du récit, de l'art et des plateformes numériques pour amplifier les voix et défier les injustices systémiques. La quête d'un monde plus équitable résonne au-delà des frontières, favorisant le dialogue et la compréhension.\n",
    "\n",
    "Dans la danse cosmique de l'exploration, les agences spatiales repoussent les limites de l'accomplissement humain. Les missions sur Mars, les explorations lunaires et la quête de vie extraterrestre captivent l'imagination collective. Les avancées en technologie spatiale promettent un avenir où les voyages interplanétaires deviennent une réalité, ouvrant de nouveaux horizons pour l'humanité.\n",
    "\n",
    "Au milieu de ces récits, l'esprit humain persévère, résilient et adaptable. La convergence de la technologie, de la science et des aspirations sociétales façonne un avenir où les possibilités sont aussi infinies que le cosmos. Dans cette toile complexe du progrès, l'humanité navigue dans les territoires inexplorés de l'ère numérique, animée par la curiosité, la compassion et le désir collectif de forger un avenir meilleur.\"\"\"\n",
    "ratio = 0.5\n",
    "summary = extractive_summarization(input_text, ratio=ratio)\n",
    "print(\"Original Text:\\n\", input_text)\n",
    "print(\"\\nSummary:\\n\", summary)"
   ]
  }
 ],
 "metadata": {
  "kernelspec": {
   "display_name": "Python 3 (ipykernel)",
   "language": "python",
   "name": "python3"
  },
  "language_info": {
   "codemirror_mode": {
    "name": "ipython",
    "version": 3
   },
   "file_extension": ".py",
   "mimetype": "text/x-python",
   "name": "python",
   "nbconvert_exporter": "python",
   "pygments_lexer": "ipython3",
   "version": "3.12.1"
  }
 },
 "nbformat": 4,
 "nbformat_minor": 5
}
